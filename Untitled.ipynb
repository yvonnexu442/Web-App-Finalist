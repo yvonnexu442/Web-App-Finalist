{
 "cells": [
  {
   "cell_type": "code",
   "execution_count": 3,
   "metadata": {},
   "outputs": [],
   "source": [
    "def fInTheChat(filename):\n",
    "    count= 0\n",
    "    f = open(getMediaPath() + filename, \"r\")\n",
    "    lines = f.readlines()\n",
    "    f.close()\n",
    "    for line in lines:\n",
    "        words = line.strip().split()\n",
    "    for letter in words:\n",
    "        if letter[0] == \"f\":\n",
    "            count += 1\n",
    "    print(\"There are \" + str(count) + \" words that start with f.\")\n",
    "    print(\"f in the chat. \" * count)"
   ]
  },
  {
   "cell_type": "code",
   "execution_count": null,
   "metadata": {},
   "outputs": [],
   "source": []
  }
 ],
 "metadata": {
  "kernelspec": {
   "display_name": "Python 3",
   "language": "python",
   "name": "python3"
  },
  "language_info": {
   "codemirror_mode": {
    "name": "ipython",
    "version": 3
   },
   "file_extension": ".py",
   "mimetype": "text/x-python",
   "name": "python",
   "nbconvert_exporter": "python",
   "pygments_lexer": "ipython3",
   "version": "3.7.3"
  }
 },
 "nbformat": 4,
 "nbformat_minor": 2
}
